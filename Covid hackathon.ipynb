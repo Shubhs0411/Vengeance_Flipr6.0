{
 "cells": [
  {
   "cell_type": "code",
   "execution_count": 28,
   "metadata": {},
   "outputs": [],
   "source": [
    "import numpy as np\n",
    "import pandas as pd\n",
    "import matplotlib.pyplot as plt\n",
    "import seaborn as sns\n",
    "from sklearn.preprocessing import LabelEncoder, OneHotEncoder\n",
    "import warnings\n",
    "import sklearn.metrics as sm\n",
    "warnings.filterwarnings(\"ignore\")\n",
    "from sklearn.model_selection import train_test_split\n",
    "from sklearn.svm import SVC\n",
    "from sklearn.metrics import confusion_matrix\n",
    "from sklearn.ensemble import RandomForestRegressor\n",
    "from sklearn import preprocessing\n",
    "from sklearn.metrics import mean_absolute_error\n",
    "from sklearn.metrics import mean_squared_error\n",
    "np.random.seed(123)"
   ]
  },
  {
   "cell_type": "code",
   "execution_count": 29,
   "metadata": {},
   "outputs": [
    {
     "data": {
      "text/html": [
       "<div>\n",
       "<style scoped>\n",
       "    .dataframe tbody tr th:only-of-type {\n",
       "        vertical-align: middle;\n",
       "    }\n",
       "\n",
       "    .dataframe tbody tr th {\n",
       "        vertical-align: top;\n",
       "    }\n",
       "\n",
       "    .dataframe thead th {\n",
       "        text-align: right;\n",
       "    }\n",
       "</style>\n",
       "<table border=\"1\" class=\"dataframe\">\n",
       "  <thead>\n",
       "    <tr style=\"text-align: right;\">\n",
       "      <th></th>\n",
       "      <th>City</th>\n",
       "      <th>State</th>\n",
       "      <th>Type</th>\n",
       "      <th>Population [2011]</th>\n",
       "      <th>Popuation [2001]</th>\n",
       "      <th>Sex Ratio</th>\n",
       "      <th>Median Age</th>\n",
       "      <th>Avg Temp</th>\n",
       "      <th>SWM</th>\n",
       "      <th>Toilets Avl</th>\n",
       "      <th>Water Purity</th>\n",
       "      <th>H Index</th>\n",
       "      <th>Female Population</th>\n",
       "      <th># of hospitals</th>\n",
       "      <th>Foreign Visitors</th>\n",
       "      <th>Covid Cases</th>\n",
       "    </tr>\n",
       "  </thead>\n",
       "  <tbody>\n",
       "    <tr>\n",
       "      <th>0</th>\n",
       "      <td>Mumbai</td>\n",
       "      <td>Maharashtra</td>\n",
       "      <td>M.C</td>\n",
       "      <td>124,42,373</td>\n",
       "      <td>119,78,450</td>\n",
       "      <td>878.0</td>\n",
       "      <td>23</td>\n",
       "      <td>32</td>\n",
       "      <td>MEDIUM</td>\n",
       "      <td>219</td>\n",
       "      <td>150</td>\n",
       "      <td>0.700440</td>\n",
       "      <td>10924403</td>\n",
       "      <td>159</td>\n",
       "      <td>4408916</td>\n",
       "      <td>163115</td>\n",
       "    </tr>\n",
       "    <tr>\n",
       "      <th>1</th>\n",
       "      <td>Delhi</td>\n",
       "      <td>Delhi</td>\n",
       "      <td>M.C</td>\n",
       "      <td>110,07,835</td>\n",
       "      <td>98,79,172</td>\n",
       "      <td>858.0</td>\n",
       "      <td>27</td>\n",
       "      <td>30</td>\n",
       "      <td>MEDIUM</td>\n",
       "      <td>215</td>\n",
       "      <td>196</td>\n",
       "      <td>0.920018</td>\n",
       "      <td>9444722</td>\n",
       "      <td>148</td>\n",
       "      <td>2379169</td>\n",
       "      <td>80188</td>\n",
       "    </tr>\n",
       "    <tr>\n",
       "      <th>2</th>\n",
       "      <td>Bangalore</td>\n",
       "      <td>Karnataka</td>\n",
       "      <td>MPUA</td>\n",
       "      <td>84,36,675</td>\n",
       "      <td>43,01,326</td>\n",
       "      <td>936.0</td>\n",
       "      <td>28</td>\n",
       "      <td>37</td>\n",
       "      <td>HIGH</td>\n",
       "      <td>212</td>\n",
       "      <td>102</td>\n",
       "      <td>0.097085</td>\n",
       "      <td>7896728</td>\n",
       "      <td>123</td>\n",
       "      <td>636502</td>\n",
       "      <td>141000</td>\n",
       "    </tr>\n",
       "    <tr>\n",
       "      <th>3</th>\n",
       "      <td>Hyderabad</td>\n",
       "      <td>Telangana</td>\n",
       "      <td>MPUA</td>\n",
       "      <td>68,09,970</td>\n",
       "      <td>36,37,483</td>\n",
       "      <td>930.0</td>\n",
       "      <td>23</td>\n",
       "      <td>31</td>\n",
       "      <td>MEDIUM</td>\n",
       "      <td>217</td>\n",
       "      <td>118</td>\n",
       "      <td>0.827744</td>\n",
       "      <td>6333272</td>\n",
       "      <td>110</td>\n",
       "      <td>126078</td>\n",
       "      <td>55123</td>\n",
       "    </tr>\n",
       "    <tr>\n",
       "      <th>4</th>\n",
       "      <td>Ahmedabad</td>\n",
       "      <td>Gujarat</td>\n",
       "      <td>MPUA</td>\n",
       "      <td>55,70,585</td>\n",
       "      <td>35,20,085</td>\n",
       "      <td>852.0</td>\n",
       "      <td>29</td>\n",
       "      <td>25</td>\n",
       "      <td>LOW</td>\n",
       "      <td>227</td>\n",
       "      <td>109</td>\n",
       "      <td>0.847941</td>\n",
       "      <td>4746138</td>\n",
       "      <td>73</td>\n",
       "      <td>284973</td>\n",
       "      <td>33204</td>\n",
       "    </tr>\n",
       "  </tbody>\n",
       "</table>\n",
       "</div>"
      ],
      "text/plain": [
       "        City        State  Type Population [2011] Popuation [2001]  Sex Ratio  \\\n",
       "0     Mumbai  Maharashtra   M.C        124,42,373       119,78,450      878.0   \n",
       "1      Delhi        Delhi   M.C        110,07,835        98,79,172      858.0   \n",
       "2  Bangalore    Karnataka  MPUA         84,36,675        43,01,326      936.0   \n",
       "3  Hyderabad    Telangana  MPUA         68,09,970        36,37,483      930.0   \n",
       "4  Ahmedabad      Gujarat  MPUA         55,70,585        35,20,085      852.0   \n",
       "\n",
       "   Median Age  Avg Temp     SWM  Toilets Avl  Water Purity   H Index  \\\n",
       "0          23        32  MEDIUM          219           150  0.700440   \n",
       "1          27        30  MEDIUM          215           196  0.920018   \n",
       "2          28        37    HIGH          212           102  0.097085   \n",
       "3          23        31  MEDIUM          217           118  0.827744   \n",
       "4          29        25     LOW          227           109  0.847941   \n",
       "\n",
       "   Female Population  # of hospitals  Foreign Visitors  Covid Cases  \n",
       "0           10924403             159           4408916       163115  \n",
       "1            9444722             148           2379169        80188  \n",
       "2            7896728             123            636502       141000  \n",
       "3            6333272             110            126078        55123  \n",
       "4            4746138              73            284973        33204  "
      ]
     },
     "execution_count": 29,
     "metadata": {},
     "output_type": "execute_result"
    }
   ],
   "source": [
    "df = pd.read_csv(\"Train_dataset - Train_data.csv\")\n",
    "df.head()"
   ]
  },
  {
   "cell_type": "code",
   "execution_count": 30,
   "metadata": {},
   "outputs": [
    {
     "data": {
      "image/png": "[encoded data removed]",
      "text/plain": [
       "<Figure size 432x288 with 2 Axes>"
      ]
     },
     "metadata": {},
     "output_type": "display_data"
    }
   ],
   "source": [
    "corr = df.corr()\n",
    "ax = sns.heatmap(\n",
    "    corr, \n",
    "    vmin=0, vmax=1, center=0,\n",
    "    cmap=sns.diverging_palette(20, 220, n=200),\n",
    "    square=True\n",
    ")\n",
    "ax.set_xticklabels(\n",
    "    ax.get_xticklabels(),\n",
    "    rotation=45,\n",
    "    horizontalalignment='right'\n",
    ");"
   ]
  },
  {
   "cell_type": "code",
   "execution_count": 31,
   "metadata": {},
   "outputs": [
    {
     "data": {
      "text/plain": [
       "(787, 10)"
      ]
     },
     "execution_count": 31,
     "metadata": {},
     "output_type": "execute_result"
    }
   ],
   "source": [
    "df = df.drop(['State','Type','Popuation [2001]','Sex Ratio','Population [2011]', 'SWM', ],axis=1)\n",
    "df.shape"
   ]
  },
  {
   "cell_type": "code",
   "execution_count": 32,
   "metadata": {},
   "outputs": [
    {
     "name": "stdout",
     "output_type": "stream",
     "text": [
      "<class 'pandas.core.frame.DataFrame'>\n",
      "RangeIndex: 787 entries, 0 to 786\n",
      "Data columns (total 10 columns):\n",
      " #   Column             Non-Null Count  Dtype  \n",
      "---  ------             --------------  -----  \n",
      " 0   City               787 non-null    object \n",
      " 1   Median Age         787 non-null    int64  \n",
      " 2   Avg Temp           787 non-null    int64  \n",
      " 3   Toilets Avl        787 non-null    int64  \n",
      " 4   Water Purity       787 non-null    int64  \n",
      " 5   H Index            787 non-null    float64\n",
      " 6   Female Population  787 non-null    int64  \n",
      " 7   # of hospitals     787 non-null    int64  \n",
      " 8   Foreign Visitors   787 non-null    int64  \n",
      " 9   Covid Cases        787 non-null    int64  \n",
      "dtypes: float64(1), int64(8), object(1)\n",
      "memory usage: 61.6+ KB\n"
     ]
    }
   ],
   "source": [
    "df.info()"
   ]
  },
  {
   "cell_type": "code",
   "execution_count": 33,
   "metadata": {},
   "outputs": [
    {
     "data": {
      "text/plain": [
       "City                 0\n",
       "Median Age           0\n",
       "Avg Temp             0\n",
       "Toilets Avl          0\n",
       "Water Purity         0\n",
       "H Index              0\n",
       "Female Population    0\n",
       "# of hospitals       0\n",
       "Foreign Visitors     0\n",
       "Covid Cases          0\n",
       "dtype: int64"
      ]
     },
     "execution_count": 33,
     "metadata": {},
     "output_type": "execute_result"
    }
   ],
   "source": [
    "df.isnull().sum()"
   ]
  },
  {
   "cell_type": "code",
   "execution_count": 34,
   "metadata": {},
   "outputs": [
    {
     "name": "stdout",
     "output_type": "stream",
     "text": [
      "(629, 8) (629,) (158, 8) (158,)\n"
     ]
    }
   ],
   "source": [
    "x = df.iloc[:, 1:9]\n",
    "y = df.iloc[:, -1]\n",
    "from sklearn.model_selection import train_test_split\n",
    "X_train, X_test, y_train, y_test = train_test_split(x, y, test_size = 0.2, random_state = 0)\n",
    "print(X_train.shape, y_train.shape, X_test.shape, y_test.shape)"
   ]
  },
  {
   "cell_type": "code",
   "execution_count": 35,
   "metadata": {},
   "outputs": [
    {
     "data": {
      "text/plain": [
       "LinearRegression()"
      ]
     },
     "execution_count": 35,
     "metadata": {},
     "output_type": "execute_result"
    }
   ],
   "source": [
    "from sklearn.linear_model import LinearRegression\n",
    "regressor = LinearRegression()\n",
    "regressor.fit(X_train,y_train)"
   ]
  },
  {
   "cell_type": "code",
   "execution_count": 36,
   "metadata": {},
   "outputs": [
    {
     "name": "stdout",
     "output_type": "stream",
     "text": [
      "MAE =  4150.110329044745\n",
      "The R-square train is:  0.535667268688149\n",
      "R2 score = 0.6\n",
      "The mean square error of price and predicted value is:  75537783.83086456\n"
     ]
    },
    {
     "data": {
      "text/plain": [
       "<matplotlib.axes._subplots.AxesSubplot at 0x49a2fa7908>"
      ]
     },
     "execution_count": 36,
     "metadata": {},
     "output_type": "execute_result"
    },
    {
     "data": {
      "image/png": "[encoded data removed]",
      "text/plain": [
       "<Figure size 432x288 with 1 Axes>"
      ]
     },
     "metadata": {},
     "output_type": "display_data"
    }
   ],
   "source": [
    "y_pred = regressor.predict(X_test)\n",
    "from sklearn.metrics import mean_squared_error\n",
    "MAE = mean_absolute_error(y_test , y_pred)\n",
    "print('MAE = ', MAE)\n",
    "print('The R-square train is: ', regressor.score(X_train,y_train))\n",
    "print(\"R2 score =\", round(sm.r2_score(y_test, y_pred), 2))\n",
    "mse = mean_squared_error(y_test, y_pred)\n",
    "print('The mean square error of price and predicted value is: ', mse)\n",
    "ax1 = sns.distplot(y_test, hist=False, color=\"r\", label=\"Actual Value\")\n",
    "sns.distplot(y_pred, hist=False, color=\"b\", label=\"Predicted Values\" , ax=ax1)"
   ]
  },
  {
   "cell_type": "code",
   "execution_count": 37,
   "metadata": {},
   "outputs": [
    {
     "name": "stdout",
     "output_type": "stream",
     "text": [
      "MAE =  2758.5194303797466\n",
      "The R-square is:  0.9504607736342834\n",
      "R2 score = 0.62\n",
      "The mean square error of price and predicted value is:  71716900.67379528\n"
     ]
    },
    {
     "data": {
      "text/plain": [
       "<matplotlib.axes._subplots.AxesSubplot at 0x49a3024348>"
      ]
     },
     "execution_count": 37,
     "metadata": {},
     "output_type": "execute_result"
    },
    {
     "data": {
      "image/png": "[encoded data removed]",
      "text/plain": [
       "<Figure size 432x288 with 1 Axes>"
      ]
     },
     "metadata": {},
     "output_type": "display_data"
    }
   ],
   "source": [
    "import sklearn.metrics as sm\n",
    "random = RandomForestRegressor(n_estimators=300, random_state=0)\n",
    "random.fit(X_train,y_train)\n",
    "y_pred = random.predict(X_test)\n",
    "MAE = mean_absolute_error(y_test , y_pred)\n",
    "print('MAE = ', MAE)\n",
    "print('The R-square is: ', random.score(X_train,y_train))\n",
    "print(\"R2 score =\", round(sm.r2_score(y_test, y_pred), 2))\n",
    "mse = mean_squared_error(y_test, y_pred)\n",
    "print('The mean square error of price and predicted value is: ', mse)\n",
    "sns.set_style('whitegrid') \n",
    "ax1 = sns.distplot(y_test, hist=False, color=\"r\", label=\"Actual Value\")\n",
    "sns.distplot(y_pred, hist=False, color=\"b\", label=\"Predicted Values\" , ax=ax1)"
   ]
  },
  {
   "cell_type": "code",
   "execution_count": 86,
   "metadata": {},
   "outputs": [
    {
     "data": {
      "text/plain": [
       "(501, 9)"
      ]
     },
     "execution_count": 86,
     "metadata": {},
     "output_type": "execute_result"
    }
   ],
   "source": [
    "data = pd.read_csv(\"Test_dataset - Test_data.csv\")\n",
    "data = data.drop(['State','Type','Popuation [2001]','Sex Ratio', 'Population [2011]', 'SWM', ],axis=1)\n",
    "data.shape"
   ]
  },
  {
   "cell_type": "code",
   "execution_count": 87,
   "metadata": {},
   "outputs": [
    {
     "data": {
      "text/plain": [
       "City                  0\n",
       "Median Age           13\n",
       "Avg Temp             14\n",
       "Toilets Avl          22\n",
       "Water Purity         19\n",
       "H Index              15\n",
       "Female Population    15\n",
       "# of hospitals       17\n",
       "Foreign Visitors     17\n",
       "dtype: int64"
      ]
     },
     "execution_count": 87,
     "metadata": {},
     "output_type": "execute_result"
    }
   ],
   "source": [
    "data.isnull().sum()"
   ]
  },
  {
   "cell_type": "code",
   "execution_count": 88,
   "metadata": {},
   "outputs": [],
   "source": [
    "data['Median Age'].fillna(data['Median Age'].mean(), inplace=True)\n",
    "data['Avg Temp'].fillna(data['Avg Temp'].mean(), inplace=True)\n",
    "data['Toilets Avl'].fillna(data['Toilets Avl'].mean(), inplace=True)\n",
    "data['Water Purity'].fillna(data['Water Purity'].mean(), inplace=True)\n",
    "data['H Index'].fillna(data['H Index'].mean(), inplace=True)\n",
    "data['# of hospitals'].fillna(data['# of hospitals'].mean(), inplace=True)\n",
    "data['Female Population'].fillna(data['Female Population'].mean(), inplace=True)\n",
    "data['Foreign Visitors'].fillna(data['Foreign Visitors'].mean(), inplace=True)"
   ]
  },
  {
   "cell_type": "code",
   "execution_count": 89,
   "metadata": {},
   "outputs": [
    {
     "data": {
      "text/plain": [
       "City                 0\n",
       "Median Age           0\n",
       "Avg Temp             0\n",
       "Toilets Avl          0\n",
       "Water Purity         0\n",
       "H Index              0\n",
       "Female Population    0\n",
       "# of hospitals       0\n",
       "Foreign Visitors     0\n",
       "dtype: int64"
      ]
     },
     "execution_count": 89,
     "metadata": {},
     "output_type": "execute_result"
    }
   ],
   "source": [
    "data.isnull().sum()"
   ]
  },
  {
   "cell_type": "code",
   "execution_count": 90,
   "metadata": {
    "scrolled": true
   },
   "outputs": [
    {
     "data": {
      "text/html": [
       "<div>\n",
       "<style scoped>\n",
       "    .dataframe tbody tr th:only-of-type {\n",
       "        vertical-align: middle;\n",
       "    }\n",
       "\n",
       "    .dataframe tbody tr th {\n",
       "        vertical-align: top;\n",
       "    }\n",
       "\n",
       "    .dataframe thead th {\n",
       "        text-align: right;\n",
       "    }\n",
       "</style>\n",
       "<table border=\"1\" class=\"dataframe\">\n",
       "  <thead>\n",
       "    <tr style=\"text-align: right;\">\n",
       "      <th></th>\n",
       "      <th>Median Age</th>\n",
       "      <th>Avg Temp</th>\n",
       "      <th>Toilets Avl</th>\n",
       "      <th>Water Purity</th>\n",
       "      <th>H Index</th>\n",
       "      <th>Female Population</th>\n",
       "      <th># of hospitals</th>\n",
       "      <th>Foreign Visitors</th>\n",
       "    </tr>\n",
       "  </thead>\n",
       "  <tbody>\n",
       "    <tr>\n",
       "      <th>0</th>\n",
       "      <td>23.0</td>\n",
       "      <td>10.0</td>\n",
       "      <td>94.0</td>\n",
       "      <td>114.0</td>\n",
       "      <td>0.253390</td>\n",
       "      <td>34237.0</td>\n",
       "      <td>17.0</td>\n",
       "      <td>2769.0</td>\n",
       "    </tr>\n",
       "    <tr>\n",
       "      <th>1</th>\n",
       "      <td>25.0</td>\n",
       "      <td>38.0</td>\n",
       "      <td>62.0</td>\n",
       "      <td>160.0</td>\n",
       "      <td>0.192555</td>\n",
       "      <td>34328.0</td>\n",
       "      <td>13.0</td>\n",
       "      <td>636502.0</td>\n",
       "    </tr>\n",
       "    <tr>\n",
       "      <th>2</th>\n",
       "      <td>29.0</td>\n",
       "      <td>35.0</td>\n",
       "      <td>63.0</td>\n",
       "      <td>105.0</td>\n",
       "      <td>0.887882</td>\n",
       "      <td>32434.0</td>\n",
       "      <td>17.0</td>\n",
       "      <td>242367.0</td>\n",
       "    </tr>\n",
       "    <tr>\n",
       "      <th>3</th>\n",
       "      <td>26.0</td>\n",
       "      <td>31.0</td>\n",
       "      <td>60.0</td>\n",
       "      <td>174.0</td>\n",
       "      <td>0.407838</td>\n",
       "      <td>32558.0</td>\n",
       "      <td>11.0</td>\n",
       "      <td>4408916.0</td>\n",
       "    </tr>\n",
       "    <tr>\n",
       "      <th>4</th>\n",
       "      <td>28.0</td>\n",
       "      <td>39.0</td>\n",
       "      <td>92.0</td>\n",
       "      <td>153.0</td>\n",
       "      <td>0.324456</td>\n",
       "      <td>32159.0</td>\n",
       "      <td>23.0</td>\n",
       "      <td>3104060.0</td>\n",
       "    </tr>\n",
       "  </tbody>\n",
       "</table>\n",
       "</div>"
      ],
      "text/plain": [
       "   Median Age  Avg Temp  Toilets Avl  Water Purity   H Index  \\\n",
       "0        23.0      10.0         94.0         114.0  0.253390   \n",
       "1        25.0      38.0         62.0         160.0  0.192555   \n",
       "2        29.0      35.0         63.0         105.0  0.887882   \n",
       "3        26.0      31.0         60.0         174.0  0.407838   \n",
       "4        28.0      39.0         92.0         153.0  0.324456   \n",
       "\n",
       "   Female Population  # of hospitals  Foreign Visitors  \n",
       "0            34237.0            17.0            2769.0  \n",
       "1            34328.0            13.0          636502.0  \n",
       "2            32434.0            17.0          242367.0  \n",
       "3            32558.0            11.0         4408916.0  \n",
       "4            32159.0            23.0         3104060.0  "
      ]
     },
     "execution_count": 90,
     "metadata": {},
     "output_type": "execute_result"
    }
   ],
   "source": [
    "xtest = data.iloc[:, 1:9]\n",
    "xtest.head()"
   ]
  },
  {
   "cell_type": "code",
   "execution_count": 91,
   "metadata": {},
   "outputs": [],
   "source": [
    "yhat = model.predict(xtest)\n",
    "ranhat = random.predict(xtest)\n",
    "reshat = regressor.predict(xtest)"
   ]
  },
  {
   "cell_type": "code",
   "execution_count": 92,
   "metadata": {},
   "outputs": [
    {
     "data": {
      "text/plain": [
       "<matplotlib.axes._subplots.AxesSubplot at 0x2b68889d48>"
      ]
     },
     "execution_count": 92,
     "metadata": {},
     "output_type": "execute_result"
    },
    {
     "data": {
      "image/png": "[encoded data removed]",
      "text/plain": [
       "<Figure size 432x288 with 1 Axes>"
      ]
     },
     "metadata": {},
     "output_type": "display_data"
    }
   ],
   "source": [
    "sns.set_style('whitegrid') \n",
    "ax1=sns.distplot(yhat, hist=False, color=\"r\", label=\"ANN Predicted Values\")\n",
    "ax2=sns.distplot(ranhat, hist=False, color=\"g\", label=\"Random Predicted Values\", ax=ax1)\n",
    "sns.distplot(reshat, hist=False, color=\"b\", label=\"Regressor Predicted Values\", ax=ax2)"
   ]
  },
  {
   "cell_type": "code",
   "execution_count": 73,
   "metadata": {
    "scrolled": true
   },
   "outputs": [
    {
     "name": "stdout",
     "output_type": "stream",
     "text": [
      "             City  Covid Cases\n",
      "0        Tuensang     1909.585\n",
      "1    Lakshmeshwar     2278.540\n",
      "2            Zira     2741.760\n",
      "3           Yawal     2342.205\n",
      "4    Thana Bhawan     2462.570\n",
      "..            ...          ...\n",
      "496   Nandaprayag     2562.945\n",
      "497    Kirtinagar     2305.255\n",
      "498     Kedarnath     2551.245\n",
      "499      Gangotri     2623.955\n",
      "500     Kumarganj     2258.210\n",
      "\n",
      "[501 rows x 2 columns]\n"
     ]
    }
   ],
   "source": [
    "ttf=pd.read_csv('Test_dataset - Test_data.csv')\n",
    "  \n",
    "# intialise data of lists. \n",
    "ds = {'City':ttf['City'],'Covid Cases':ranhat} \n",
    "  \n",
    "# Create DataFrame \n",
    "dtf = pd.DataFrame(ds) \n",
    "  \n",
    "# Print the output. \n",
    "print(dtf) \n",
    "\n",
    "dtf.to_csv('ANN_Result.csv')"
   ]
  },
  {
   "cell_type": "code",
   "execution_count": null,
   "metadata": {},
   "outputs": [],
   "source": []
  }
 ],
 "metadata": {
  "kernelspec": {
   "display_name": "Python 3",
   "language": "python",
   "name": "python3"
  },
  "language_info": {
   "codemirror_mode": {
    "name": "ipython",
    "version": 3
   },
   "file_extension": ".py",
   "mimetype": "text/x-python",
   "name": "python",
   "nbconvert_exporter": "python",
   "pygments_lexer": "ipython3",
   "version": "3.7.5"
  }
 },
 "nbformat": 4,
 "nbformat_minor": 4
}
